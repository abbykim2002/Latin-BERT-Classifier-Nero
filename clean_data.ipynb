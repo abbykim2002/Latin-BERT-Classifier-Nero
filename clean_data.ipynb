{
 "cells": [
  {
   "cell_type": "markdown",
   "id": "61bd7314",
   "metadata": {},
   "source": [
    "# Clean raw text data\n",
    "\n",
    "This notebook removes numbers, punctuation (since punctuation doesn't exist in latin), and any nonwords from the raw Latin textfiles. It outputs the cleaned text to a textfile called \"cleaned.txt\" in the respective folder of its genre."
   ]
  },
  {
   "cell_type": "code",
   "execution_count": 1,
   "id": "9da8609d",
   "metadata": {},
   "outputs": [],
   "source": [
    "import nltk\n",
    "from nltk.tokenize import word_tokenize\n",
    "import string\n",
    "import os"
   ]
  },
  {
   "cell_type": "code",
   "execution_count": 2,
   "id": "bd1941ff",
   "metadata": {},
   "outputs": [],
   "source": [
    "def cleanFile(filename):\n",
    "    file = open(filename, 'rt')\n",
    "    text = file.read()\n",
    "    file.close()\n",
    "    \n",
    "    tokens = word_tokenize(text)\n",
    "    # convert to lower case\n",
    "    tokens = [w.lower() for w in tokens]\n",
    "    # remove punctuation from each word\n",
    "    table = str.maketrans('', '', string.punctuation)\n",
    "    stripped = [w.translate(table) for w in tokens]\n",
    "    # remove remaining tokens that are not alphabetic\n",
    "    words = [word for word in stripped if word.isalpha()]\n",
    "    # filter out stop words\n",
    "    from nltk.corpus import stopwords\n",
    "    stop_words = set(stopwords.words('english'))\n",
    "    words = [w for w in words if not w in stop_words]\n",
    "    \n",
    "    return words"
   ]
  },
  {
   "cell_type": "code",
   "execution_count": 21,
   "id": "1d4262ac",
   "metadata": {},
   "outputs": [],
   "source": [
    "# history\n",
    "textfile = open(\"data/history/clean.txt\", \"a\")\n",
    "for element in cleanFile(\"data/history/caesar.txt\"):\n",
    "    textfile.write(element + \" \")\n",
    "\n",
    "for element in cleanFile(\"data/history/livy.txt\"):\n",
    "    textfile.write(element + \" \")\n",
    "                         \n",
    "for element in cleanFile(\"data/history/sallust.txt\"):\n",
    "    textfile.write(element + \" \")\n",
    "                         \n",
    "textfile.close()"
   ]
  },
  {
   "cell_type": "code",
   "execution_count": 27,
   "id": "e7a741ad",
   "metadata": {},
   "outputs": [],
   "source": [
    "# myth\n",
    "textfile = open(\"data/myth/clean.txt\", \"a\")    \n",
    "\n",
    "directory = 'data/myth'\n",
    "for filename in os.listdir(directory):\n",
    "    f = os.path.join(directory, filename)\n",
    "    if os.path.isfile(f):\n",
    "        for element in cleanFile(f):\n",
    "            textfile.write(element + \" \")\n",
    "\n",
    "textfile.close()"
   ]
  },
  {
   "cell_type": "code",
   "execution_count": 29,
   "id": "da7fa401",
   "metadata": {},
   "outputs": [],
   "source": [
    "# nero\n",
    "textfile = open(\"data/nero/clean.txt\", \"a\")\n",
    "for element in cleanFile(\"data/nero/annals.txt\"):\n",
    "    textfile.write(element + \" \")\n",
    "\n",
    "for element in cleanFile(\"data/nero/biography.txt\"):\n",
    "    textfile.write(element + \" \")\n",
    "                         \n",
    "textfile.close()"
   ]
  },
  {
   "cell_type": "code",
   "execution_count": 3,
   "id": "555d6517",
   "metadata": {},
   "outputs": [],
   "source": [
    "# nero by work\n",
    "textfile = open(\"data/nero/clean-annals.txt\", \"a\")\n",
    "for element in cleanFile(\"data/nero/annals.txt\"):\n",
    "    textfile.write(element + \" \")\n",
    "textfile.close()\n",
    "\n",
    "textfile = open(\"data/nero/clean-biography.txt\", \"a\")\n",
    "for element in cleanFile(\"data/nero/biography.txt\"):\n",
    "    textfile.write(element + \" \")\n",
    "textfile.close()"
   ]
  },
  {
   "cell_type": "code",
   "execution_count": null,
   "id": "2f917bd5",
   "metadata": {},
   "outputs": [],
   "source": []
  }
 ],
 "metadata": {
  "kernelspec": {
   "display_name": "Python 3 (ipykernel)",
   "language": "python",
   "name": "python3"
  },
  "language_info": {
   "codemirror_mode": {
    "name": "ipython",
    "version": 3
   },
   "file_extension": ".py",
   "mimetype": "text/x-python",
   "name": "python",
   "nbconvert_exporter": "python",
   "pygments_lexer": "ipython3",
   "version": "3.8.8"
  }
 },
 "nbformat": 4,
 "nbformat_minor": 5
}
