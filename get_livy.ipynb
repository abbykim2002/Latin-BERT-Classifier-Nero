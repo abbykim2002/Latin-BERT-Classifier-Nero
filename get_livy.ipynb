{
 "cells": [
  {
   "cell_type": "markdown",
   "id": "174662e5",
   "metadata": {},
   "source": [
    "# Get livy data\n",
    "\n",
    "This notebook gets the Livy data from http://www.thelatinlibrary.com/livy/liv.1.shtml and outputs the Latin text into a textfile.\n"
   ]
  },
  {
   "cell_type": "code",
   "execution_count": 1,
   "id": "7823ef62",
   "metadata": {},
   "outputs": [],
   "source": [
    "import requests\n",
    "import bs4\n",
    "from bs4 import BeautifulSoup as BS\n",
    "import re"
   ]
  },
  {
   "cell_type": "code",
   "execution_count": 28,
   "id": "f1732b47",
   "metadata": {},
   "outputs": [],
   "source": [
    "def parsePage(book):\n",
    "    url = \"http://www.thelatinlibrary.com/livy/liv.\" + str(book) + \".shtml\"\n",
    "    \n",
    "    # check that the GET request was successful\n",
    "    response = requests.get(url)\n",
    "    if response.status_code != 200:\n",
    "        return -1\n",
    "    \n",
    "    # create a variable htmlPage that has the response text stored in it\n",
    "    htmlPage = response.text\n",
    "    \n",
    "    # Pass the string htmlPage to BeautifulSoup to create the DOM object\n",
    "    domTree = BS(htmlPage, 'html.parser')\n",
    "    \n",
    "    # extract the page we're interested in\n",
    "    pageText = domTree.find_all('p')\n",
    "    \n",
    "    return [data.get_text() for data in pageText][4:-1]"
   ]
  },
  {
   "cell_type": "code",
   "execution_count": 35,
   "id": "dd5081c0",
   "metadata": {},
   "outputs": [],
   "source": [
    "# 1-10, 21-45\n",
    "file_object = open('livy.txt', 'a')\n",
    "\n",
    "for i in range(1, 11):\n",
    "    for data in parsePage(i):\n",
    "        file_object.write(data)\n",
    "\n",
    "for i in range(21, 46):\n",
    "    for data in parsePage(i):\n",
    "        file_object.write(data)\n",
    "    \n",
    "file_object.close()"
   ]
  },
  {
   "cell_type": "code",
   "execution_count": null,
   "id": "b5b9b00a",
   "metadata": {},
   "outputs": [],
   "source": []
  }
 ],
 "metadata": {
  "kernelspec": {
   "display_name": "Python 3 (ipykernel)",
   "language": "python",
   "name": "python3"
  },
  "language_info": {
   "codemirror_mode": {
    "name": "ipython",
    "version": 3
   },
   "file_extension": ".py",
   "mimetype": "text/x-python",
   "name": "python",
   "nbconvert_exporter": "python",
   "pygments_lexer": "ipython3",
   "version": "3.8.8"
  }
 },
 "nbformat": 4,
 "nbformat_minor": 5
}
