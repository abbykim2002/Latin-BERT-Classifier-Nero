{
 "cells": [
  {
   "cell_type": "markdown",
   "id": "946592f9",
   "metadata": {},
   "source": [
    "# Get's ovid data\n",
    "\n",
    "This notebook gets the Ovid data from https://www.thelatinlibrary.com/ovid.html and outputs the Latin text into a textfile.\n",
    "\n",
    "Also used for aeneid and other latin library texts\n",
    "https://www.thelatinlibrary.com/verg.html\n",
    "https://www.thelatinlibrary.com/apuleius/apuleius.shtml"
   ]
  },
  {
   "cell_type": "code",
   "execution_count": 21,
   "id": "1b4fb97f",
   "metadata": {},
   "outputs": [],
   "source": [
    "import requests\n",
    "import bs4\n",
    "from bs4 import BeautifulSoup as BS\n",
    "import re"
   ]
  },
  {
   "cell_type": "code",
   "execution_count": 22,
   "id": "a0eb3ea0",
   "metadata": {},
   "outputs": [],
   "source": [
    "def parsePage(book):\n",
    "    #url = \"https://www.thelatinlibrary.com/ovid/ovid.met\" + str(book)+ \".shtml\"\n",
    "    #url = \"https://www.thelatinlibrary.com/vergil/aen\" + str(book)+ \".shtml\"\n",
    "    url = \"https://www.thelatinlibrary.com/apuleius/apuleius\" + str(book)+ \".shtml\"\n",
    "    \n",
    "    # check that the GET request was successful\n",
    "    response = requests.get(url)\n",
    "    if response.status_code != 200:\n",
    "        return -1\n",
    "    \n",
    "    # create a variable htmlPage that has the response text stored in it\n",
    "    htmlPage = response.text\n",
    "    \n",
    "    # Pass the string htmlPage to BeautifulSoup to create the DOM object\n",
    "    domTree = BS(htmlPage, 'html.parser')\n",
    "    \n",
    "    # extract the page we're interested in\n",
    "    pageText = domTree.find_all('p')\n",
    "    \n",
    "    return [data.get_text() for data in pageText][1:-1]"
   ]
  },
  {
   "cell_type": "code",
   "execution_count": 25,
   "id": "dc670e16",
   "metadata": {},
   "outputs": [],
   "source": [
    "file_object = open('apuleius.txt', 'a')\n",
    "\n",
    "for i in range(1, 11):\n",
    "    for data in parsePage(i):\n",
    "        file_object.write(data)\n",
    "    \n",
    "file_object.close()"
   ]
  },
  {
   "cell_type": "code",
   "execution_count": 18,
   "id": "5faf4e85",
   "metadata": {},
   "outputs": [],
   "source": [
    "file_object = open('aeneid.txt', 'a')\n",
    "\n",
    "for i in range(1, 13):\n",
    "    for data in parsePage(i):\n",
    "        file_object.write(data)\n",
    "    \n",
    "file_object.close()"
   ]
  },
  {
   "cell_type": "code",
   "execution_count": 14,
   "id": "7b97b540",
   "metadata": {},
   "outputs": [],
   "source": [
    "file_object = open('met.txt', 'a')\n",
    "\n",
    "for i in range(1, 16):\n",
    "    file_object.write(parsePage(i))\n",
    "    \n",
    "file_object.close()"
   ]
  },
  {
   "cell_type": "code",
   "execution_count": null,
   "id": "1673126d",
   "metadata": {},
   "outputs": [],
   "source": []
  }
 ],
 "metadata": {
  "kernelspec": {
   "display_name": "Python 3 (ipykernel)",
   "language": "python",
   "name": "python3"
  },
  "language_info": {
   "codemirror_mode": {
    "name": "ipython",
    "version": 3
   },
   "file_extension": ".py",
   "mimetype": "text/x-python",
   "name": "python",
   "nbconvert_exporter": "python",
   "pygments_lexer": "ipython3",
   "version": "3.8.8"
  }
 },
 "nbformat": 4,
 "nbformat_minor": 5
}
